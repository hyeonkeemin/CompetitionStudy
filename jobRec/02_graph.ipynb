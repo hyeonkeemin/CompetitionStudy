{
 "cells": [
  {
   "cell_type": "code",
   "execution_count": 1,
   "id": "1f95642b-77ad-45a3-b3f2-d3091c739db9",
   "metadata": {},
   "outputs": [],
   "source": [
    "%config Completer.use_jedi = False"
   ]
  },
  {
   "cell_type": "code",
   "execution_count": 2,
   "id": "2e2d82b6-0f92-43c7-ac71-9f426de0c1cc",
   "metadata": {},
   "outputs": [],
   "source": [
    "import pandas as pd\n",
    "import numpy as np"
   ]
  },
  {
   "cell_type": "code",
   "execution_count": 3,
   "id": "bb3f6987-51f8-4629-bcca-66ddfd05f7b5",
   "metadata": {},
   "outputs": [],
   "source": [
    "pd.set_option('display.max_columns', None)"
   ]
  },
  {
   "cell_type": "code",
   "execution_count": 4,
   "id": "a98d3504-8dca-4b9f-bf8f-ab6092b62914",
   "metadata": {},
   "outputs": [],
   "source": [
    "df = pd.read_csv('train.csv')"
   ]
  },
  {
   "cell_type": "code",
   "execution_count": 5,
   "id": "e03bfec5-5172-4ce5-b521-39ae8b7cd312",
   "metadata": {},
   "outputs": [
    {
     "data": {
      "text/plain": [
       "501946    501946\n",
       "501947    501947\n",
       "501948    501948\n",
       "501949    501949\n",
       "501950    501950\n",
       "Name: id, dtype: int64"
      ]
     },
     "execution_count": 5,
     "metadata": {},
     "output_type": "execute_result"
    }
   ],
   "source": [
    "df_id = df.iloc[:, 0]\n",
    "df_id.tail()"
   ]
  },
  {
   "cell_type": "code",
   "execution_count": 6,
   "id": "fcdf3c88-57ab-4851-8d0d-faffaecd2e91",
   "metadata": {},
   "outputs": [
    {
     "data": {
      "text/html": [
       "<div>\n",
       "<style scoped>\n",
       "    .dataframe tbody tr th:only-of-type {\n",
       "        vertical-align: middle;\n",
       "    }\n",
       "\n",
       "    .dataframe tbody tr th {\n",
       "        vertical-align: top;\n",
       "    }\n",
       "\n",
       "    .dataframe thead th {\n",
       "        text-align: right;\n",
       "    }\n",
       "</style>\n",
       "<table border=\"1\" class=\"dataframe\">\n",
       "  <thead>\n",
       "    <tr style=\"text-align: right;\">\n",
       "      <th></th>\n",
       "      <th>person_attribute_a</th>\n",
       "      <th>person_attribute_a_1</th>\n",
       "      <th>person_attribute_b</th>\n",
       "      <th>person_prefer_c</th>\n",
       "      <th>person_prefer_d_1</th>\n",
       "      <th>person_prefer_d_2</th>\n",
       "      <th>person_prefer_d_3</th>\n",
       "      <th>person_prefer_e</th>\n",
       "      <th>person_prefer_f</th>\n",
       "      <th>person_prefer_g</th>\n",
       "      <th>person_prefer_h_1</th>\n",
       "      <th>person_prefer_h_2</th>\n",
       "      <th>person_prefer_h_3</th>\n",
       "    </tr>\n",
       "  </thead>\n",
       "  <tbody>\n",
       "    <tr>\n",
       "      <th>501946</th>\n",
       "      <td>1</td>\n",
       "      <td>1</td>\n",
       "      <td>2</td>\n",
       "      <td>2</td>\n",
       "      <td>1192</td>\n",
       "      <td>935</td>\n",
       "      <td>1228</td>\n",
       "      <td>3</td>\n",
       "      <td>1</td>\n",
       "      <td>1</td>\n",
       "      <td>59</td>\n",
       "      <td>4</td>\n",
       "      <td>95</td>\n",
       "    </tr>\n",
       "    <tr>\n",
       "      <th>501947</th>\n",
       "      <td>1</td>\n",
       "      <td>6</td>\n",
       "      <td>2</td>\n",
       "      <td>1</td>\n",
       "      <td>118</td>\n",
       "      <td>113</td>\n",
       "      <td>110</td>\n",
       "      <td>4</td>\n",
       "      <td>1</td>\n",
       "      <td>1</td>\n",
       "      <td>105</td>\n",
       "      <td>142</td>\n",
       "      <td>95</td>\n",
       "    </tr>\n",
       "    <tr>\n",
       "      <th>501948</th>\n",
       "      <td>1</td>\n",
       "      <td>7</td>\n",
       "      <td>4</td>\n",
       "      <td>1</td>\n",
       "      <td>147</td>\n",
       "      <td>46</td>\n",
       "      <td>145</td>\n",
       "      <td>4</td>\n",
       "      <td>1</td>\n",
       "      <td>1</td>\n",
       "      <td>59</td>\n",
       "      <td>127</td>\n",
       "      <td>139</td>\n",
       "    </tr>\n",
       "    <tr>\n",
       "      <th>501949</th>\n",
       "      <td>1</td>\n",
       "      <td>1</td>\n",
       "      <td>2</td>\n",
       "      <td>1</td>\n",
       "      <td>46</td>\n",
       "      <td>147</td>\n",
       "      <td>145</td>\n",
       "      <td>4</td>\n",
       "      <td>1</td>\n",
       "      <td>1</td>\n",
       "      <td>251</td>\n",
       "      <td>49</td>\n",
       "      <td>258</td>\n",
       "    </tr>\n",
       "    <tr>\n",
       "      <th>501950</th>\n",
       "      <td>1</td>\n",
       "      <td>6</td>\n",
       "      <td>3</td>\n",
       "      <td>5</td>\n",
       "      <td>147</td>\n",
       "      <td>46</td>\n",
       "      <td>145</td>\n",
       "      <td>6</td>\n",
       "      <td>1</td>\n",
       "      <td>1</td>\n",
       "      <td>278</td>\n",
       "      <td>31</td>\n",
       "      <td>49</td>\n",
       "    </tr>\n",
       "  </tbody>\n",
       "</table>\n",
       "</div>"
      ],
      "text/plain": [
       "        person_attribute_a  person_attribute_a_1  person_attribute_b  \\\n",
       "501946                   1                     1                   2   \n",
       "501947                   1                     6                   2   \n",
       "501948                   1                     7                   4   \n",
       "501949                   1                     1                   2   \n",
       "501950                   1                     6                   3   \n",
       "\n",
       "        person_prefer_c  person_prefer_d_1  person_prefer_d_2  \\\n",
       "501946                2               1192                935   \n",
       "501947                1                118                113   \n",
       "501948                1                147                 46   \n",
       "501949                1                 46                147   \n",
       "501950                5                147                 46   \n",
       "\n",
       "        person_prefer_d_3  person_prefer_e  person_prefer_f  person_prefer_g  \\\n",
       "501946               1228                3                1                1   \n",
       "501947                110                4                1                1   \n",
       "501948                145                4                1                1   \n",
       "501949                145                4                1                1   \n",
       "501950                145                6                1                1   \n",
       "\n",
       "        person_prefer_h_1  person_prefer_h_2  person_prefer_h_3  \n",
       "501946                 59                  4                 95  \n",
       "501947                105                142                 95  \n",
       "501948                 59                127                139  \n",
       "501949                251                 49                258  \n",
       "501950                278                 31                 49  "
      ]
     },
     "execution_count": 6,
     "metadata": {},
     "output_type": "execute_result"
    }
   ],
   "source": [
    "df_users = df.iloc[:, 7:-15]\n",
    "df_users.tail()"
   ]
  },
  {
   "cell_type": "code",
   "execution_count": 7,
   "id": "9ccd7960-0a6b-4e41-80f8-f29972a14bbf",
   "metadata": {},
   "outputs": [
    {
     "data": {
      "text/html": [
       "<div>\n",
       "<style scoped>\n",
       "    .dataframe tbody tr th:only-of-type {\n",
       "        vertical-align: middle;\n",
       "    }\n",
       "\n",
       "    .dataframe tbody tr th {\n",
       "        vertical-align: top;\n",
       "    }\n",
       "\n",
       "    .dataframe thead th {\n",
       "        text-align: right;\n",
       "    }\n",
       "</style>\n",
       "<table border=\"1\" class=\"dataframe\">\n",
       "  <thead>\n",
       "    <tr style=\"text-align: right;\">\n",
       "      <th></th>\n",
       "      <th>contents_attribute_i</th>\n",
       "      <th>contents_attribute_a</th>\n",
       "      <th>contents_attribute_j_1</th>\n",
       "      <th>contents_attribute_j</th>\n",
       "      <th>contents_attribute_c</th>\n",
       "      <th>contents_attribute_k</th>\n",
       "      <th>contents_attribute_l</th>\n",
       "      <th>contents_attribute_d</th>\n",
       "      <th>contents_attribute_m</th>\n",
       "      <th>contents_attribute_e</th>\n",
       "      <th>contents_attribute_h</th>\n",
       "      <th>person_rn</th>\n",
       "      <th>contents_rn</th>\n",
       "    </tr>\n",
       "  </thead>\n",
       "  <tbody>\n",
       "    <tr>\n",
       "      <th>501946</th>\n",
       "      <td>3</td>\n",
       "      <td>3</td>\n",
       "      <td>5</td>\n",
       "      <td>1</td>\n",
       "      <td>1</td>\n",
       "      <td>2</td>\n",
       "      <td>354</td>\n",
       "      <td>147</td>\n",
       "      <td>1</td>\n",
       "      <td>5</td>\n",
       "      <td>65</td>\n",
       "      <td>503156</td>\n",
       "      <td>285850</td>\n",
       "    </tr>\n",
       "    <tr>\n",
       "      <th>501947</th>\n",
       "      <td>3</td>\n",
       "      <td>3</td>\n",
       "      <td>10</td>\n",
       "      <td>2</td>\n",
       "      <td>1</td>\n",
       "      <td>2</td>\n",
       "      <td>163</td>\n",
       "      <td>120</td>\n",
       "      <td>1</td>\n",
       "      <td>4</td>\n",
       "      <td>142</td>\n",
       "      <td>676255</td>\n",
       "      <td>456996</td>\n",
       "    </tr>\n",
       "    <tr>\n",
       "      <th>501948</th>\n",
       "      <td>3</td>\n",
       "      <td>1</td>\n",
       "      <td>5</td>\n",
       "      <td>1</td>\n",
       "      <td>1</td>\n",
       "      <td>2</td>\n",
       "      <td>438</td>\n",
       "      <td>147</td>\n",
       "      <td>2</td>\n",
       "      <td>7</td>\n",
       "      <td>65</td>\n",
       "      <td>484528</td>\n",
       "      <td>293258</td>\n",
       "    </tr>\n",
       "    <tr>\n",
       "      <th>501949</th>\n",
       "      <td>3</td>\n",
       "      <td>2</td>\n",
       "      <td>5</td>\n",
       "      <td>1</td>\n",
       "      <td>1</td>\n",
       "      <td>2</td>\n",
       "      <td>660</td>\n",
       "      <td>147</td>\n",
       "      <td>3</td>\n",
       "      <td>4</td>\n",
       "      <td>259</td>\n",
       "      <td>456330</td>\n",
       "      <td>273797</td>\n",
       "    </tr>\n",
       "    <tr>\n",
       "      <th>501950</th>\n",
       "      <td>3</td>\n",
       "      <td>3</td>\n",
       "      <td>5</td>\n",
       "      <td>1</td>\n",
       "      <td>1</td>\n",
       "      <td>2</td>\n",
       "      <td>786</td>\n",
       "      <td>147</td>\n",
       "      <td>2</td>\n",
       "      <td>5</td>\n",
       "      <td>289</td>\n",
       "      <td>235596</td>\n",
       "      <td>176650</td>\n",
       "    </tr>\n",
       "  </tbody>\n",
       "</table>\n",
       "</div>"
      ],
      "text/plain": [
       "        contents_attribute_i  contents_attribute_a  contents_attribute_j_1  \\\n",
       "501946                     3                     3                       5   \n",
       "501947                     3                     3                      10   \n",
       "501948                     3                     1                       5   \n",
       "501949                     3                     2                       5   \n",
       "501950                     3                     3                       5   \n",
       "\n",
       "        contents_attribute_j  contents_attribute_c  contents_attribute_k  \\\n",
       "501946                     1                     1                     2   \n",
       "501947                     2                     1                     2   \n",
       "501948                     1                     1                     2   \n",
       "501949                     1                     1                     2   \n",
       "501950                     1                     1                     2   \n",
       "\n",
       "        contents_attribute_l  contents_attribute_d  contents_attribute_m  \\\n",
       "501946                   354                   147                     1   \n",
       "501947                   163                   120                     1   \n",
       "501948                   438                   147                     2   \n",
       "501949                   660                   147                     3   \n",
       "501950                   786                   147                     2   \n",
       "\n",
       "        contents_attribute_e  contents_attribute_h  person_rn  contents_rn  \n",
       "501946                     5                    65     503156       285850  \n",
       "501947                     4                   142     676255       456996  \n",
       "501948                     7                    65     484528       293258  \n",
       "501949                     4                   259     456330       273797  \n",
       "501950                     5                   289     235596       176650  "
      ]
     },
     "execution_count": 7,
     "metadata": {},
     "output_type": "execute_result"
    }
   ],
   "source": [
    "df_contents = df.iloc[:, -15:-2]\n",
    "df_contents.tail()"
   ]
  },
  {
   "cell_type": "code",
   "execution_count": 8,
   "id": "86fe53cd-a501-4d1d-9a89-1a4b697bd2f8",
   "metadata": {},
   "outputs": [
    {
     "data": {
      "text/plain": [
       "501946    1\n",
       "501947    1\n",
       "501948    1\n",
       "501949    1\n",
       "501950    1\n",
       "Name: target, dtype: int64"
      ]
     },
     "execution_count": 8,
     "metadata": {},
     "output_type": "execute_result"
    }
   ],
   "source": [
    "df_target = df.iloc[:, -1]\n",
    "df_target.tail()"
   ]
  },
  {
   "cell_type": "code",
   "execution_count": 35,
   "id": "7db83be1-e4f7-4a63-a4e8-e3a524321e03",
   "metadata": {},
   "outputs": [],
   "source": [
    "import torch\n",
    "import torch.nn.functional as F\n",
    "\n",
    "from torch_geometric.data import Data\n",
    "import torch_geometric.transforms as T\n",
    "from torch_geometric.nn import SplineConv"
   ]
  },
  {
   "cell_type": "code",
   "execution_count": 10,
   "id": "2096a837-ab88-44f0-a12e-be8fe186865d",
   "metadata": {},
   "outputs": [],
   "source": [
    "user_id = df_target.index.to_numpy().reshape(-1, 1)\n",
    "target = df_target.to_numpy().reshape(-1, 1)"
   ]
  },
  {
   "cell_type": "code",
   "execution_count": 11,
   "id": "04e6b48b-b7b6-4924-a80d-8b6ed06ed1de",
   "metadata": {},
   "outputs": [],
   "source": [
    "direct1 = torch.tensor(np.concatenate((user_id, target), axis=1), dtype=torch.long)\n",
    "direct2 = torch.tensor(np.concatenate((target, user_id), axis=1), dtype=torch.long)"
   ]
  },
  {
   "cell_type": "code",
   "execution_count": 12,
   "id": "972f33ee-791a-42d4-8e37-a97099af323b",
   "metadata": {},
   "outputs": [],
   "source": [
    "edge_index = torch.concat((direct1, direct2))"
   ]
  },
  {
   "cell_type": "code",
   "execution_count": 13,
   "id": "c4584165-68d7-476a-90ec-5cb7f5582486",
   "metadata": {},
   "outputs": [],
   "source": [
    "edge_attr = torch.tensor(df_contents.values, dtype=torch.long)"
   ]
  },
  {
   "cell_type": "code",
   "execution_count": 14,
   "id": "e6681ada-cf25-4f1c-a2ac-252ad32d4ddb",
   "metadata": {},
   "outputs": [],
   "source": [
    "x = torch.tensor(df_users.values, dtype=torch.long)"
   ]
  },
  {
   "cell_type": "code",
   "execution_count": 15,
   "id": "949a00a8-6ef7-411a-8007-2cb74a49c31c",
   "metadata": {},
   "outputs": [],
   "source": [
    "y = torch.tensor(df_target.values.reshape(-1), dtype=torch.long)"
   ]
  },
  {
   "cell_type": "code",
   "execution_count": 16,
   "id": "ab60ffc1-d69f-41e0-8f5e-fae655b3c0bd",
   "metadata": {},
   "outputs": [],
   "source": [
    "data = Data(x=x, edge_index=edge_index.t().contiguous(), y=y, edge_attr=edge_attr)"
   ]
  },
  {
   "cell_type": "code",
   "execution_count": null,
   "id": "ee99d65b-6742-40d6-afa4-f25a0661fe9f",
   "metadata": {},
   "outputs": [],
   "source": []
  },
  {
   "cell_type": "code",
   "execution_count": 27,
   "id": "69275f21-9732-4bd4-91ed-82c185bae010",
   "metadata": {},
   "outputs": [],
   "source": [
    "class Net(torch.nn.Module):\n",
    "    def __init__(self):\n",
    "        super().__init__()\n",
    "        self.conv1 = SplineConv(data.num_features, 16, dim=1, kernel_size=2)\n",
    "        self.conv2 = SplineConv(16, 2, dim=1, kernel_size=2)\n",
    "\n",
    "    def forward(self):\n",
    "        x, edge_index, edge_attr = data.x, data.edge_index, data.edge_attr\n",
    "        x = F.dropout(x, training=self.training)\n",
    "        x = F.elu(self.conv1(x, edge_index, edge_attr))\n",
    "        x = F.dropout(x, training=self.training)\n",
    "        x = self.conv2(x, edge_index, edge_attr)\n",
    "        return F.log_softmax(x, dim=1)\n",
    "    \n",
    "def train():\n",
    "    model.train()\n",
    "    optimizer.zero_grad()\n",
    "    F.nll_loss(model()[data.train_mask], data.y[data.train_mask]).backward()\n",
    "    optimizer.step()\n",
    "\n",
    "\n",
    "@torch.no_grad()\n",
    "def test():\n",
    "    model.eval()\n",
    "    log_probs, accs = model(), []\n",
    "    for _, mask in data('train_mask', 'test_mask'):\n",
    "        pred = log_probs[mask].max(1)[1]\n",
    "        acc = pred.eq(data.y[mask]).sum().item() / mask.sum().item()\n",
    "        accs.append(acc)\n",
    "    return accs"
   ]
  },
  {
   "cell_type": "code",
   "execution_count": 28,
   "id": "3c991808-cf0c-4ad4-8c3f-04d70e3acb7b",
   "metadata": {},
   "outputs": [],
   "source": [
    "device = torch.device('cuda' if torch.cuda.is_available() else 'cpu')\n",
    "model, data = Net().to(device), data.to(device)\n",
    "optimizer = torch.optim.Adam(model.parameters(), lr=0.01, weight_decay=5e-3)"
   ]
  },
  {
   "cell_type": "code",
   "execution_count": null,
   "id": "e82b8fda-0b9b-43e0-813f-e98ecf183b4c",
   "metadata": {},
   "outputs": [],
   "source": []
  }
 ],
 "metadata": {
  "kernelspec": {
   "display_name": "Python 3",
   "language": "python",
   "name": "python3"
  },
  "language_info": {
   "codemirror_mode": {
    "name": "ipython",
    "version": 3
   },
   "file_extension": ".py",
   "mimetype": "text/x-python",
   "name": "python",
   "nbconvert_exporter": "python",
   "pygments_lexer": "ipython3",
   "version": "3.8.8"
  }
 },
 "nbformat": 4,
 "nbformat_minor": 5
}
